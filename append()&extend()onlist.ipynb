{
 "cells": [
  {
   "cell_type": "code",
   "execution_count": 29,
   "id": "4c557b0f",
   "metadata": {},
   "outputs": [
    {
     "name": "stdout",
     "output_type": "stream",
     "text": [
      "[12, 14, 53, 42.4, 99.9, 'srk', 74] 2887671044800 <class 'list'>\n"
     ]
    }
   ],
   "source": [
    "l1=[12,14,53,42.4,99.9,\"srk\"]\n",
    "l1.append(74)\n",
    "print(l1,id(l1),type(l1))"
   ]
  },
  {
   "cell_type": "code",
   "execution_count": 31,
   "id": "614a0b08",
   "metadata": {},
   "outputs": [
    {
     "name": "stdout",
     "output_type": "stream",
     "text": [
      "[12, 14, 53, 42.4, 99.9, 'srk', 74, 32, 'nareshit'] 2887671044800 <class 'list'>\n"
     ]
    }
   ],
   "source": [
    "l1.append(\"nareshit\")\n",
    "print(l1,id(l1),type(l1))"
   ]
  },
  {
   "cell_type": "code",
   "execution_count": 32,
   "id": "c24ea5ad",
   "metadata": {},
   "outputs": [
    {
     "ename": "TypeError",
     "evalue": "'int' object is not iterable",
     "output_type": "error",
     "traceback": [
      "\u001b[1;31m---------------------------------------------------------------------------\u001b[0m",
      "\u001b[1;31mTypeError\u001b[0m                                 Traceback (most recent call last)",
      "Cell \u001b[1;32mIn[32], line 1\u001b[0m\n\u001b[1;32m----> 1\u001b[0m l1\u001b[38;5;241m.\u001b[39mextend(\u001b[38;5;241m32\u001b[39m)                       \u001b[38;5;66;03m#we cann't pass direct value to extend(), we have to use [] inside extend([])\u001b[39;00m\n\u001b[0;32m      2\u001b[0m \u001b[38;5;28mprint\u001b[39m(l1,\u001b[38;5;28mid\u001b[39m(l1),\u001b[38;5;28mtype\u001b[39m(l1))\n",
      "\u001b[1;31mTypeError\u001b[0m: 'int' object is not iterable"
     ]
    }
   ],
   "source": [
    "l1.extend(32)                       #we cann't pass direct value to extend(), we have to use [] inside extend([])\n",
    "print(l1,id(l1),type(l1))"
   ]
  },
  {
   "cell_type": "code",
   "execution_count": 33,
   "id": "25aaedc4",
   "metadata": {},
   "outputs": [
    {
     "name": "stdout",
     "output_type": "stream",
     "text": [
      "[12, 14, 53, 42.4, 99.9, 'srk', 74, 32, 'nareshit', 32] 2887671044800 <class 'list'>\n"
     ]
    }
   ],
   "source": [
    "l1.extend([32])                   #we have to use extend([]), not extend() \n",
    "print(l1,id(l1),type(l1))"
   ]
  },
  {
   "cell_type": "code",
   "execution_count": 27,
   "id": "0f4dc8a3",
   "metadata": {},
   "outputs": [
    {
     "ename": "TypeError",
     "evalue": "list.append() takes exactly one argument (2 given)",
     "output_type": "error",
     "traceback": [
      "\u001b[1;31m---------------------------------------------------------------------------\u001b[0m",
      "\u001b[1;31mTypeError\u001b[0m                                 Traceback (most recent call last)",
      "Cell \u001b[1;32mIn[27], line 1\u001b[0m\n\u001b[1;32m----> 1\u001b[0m l1\u001b[38;5;241m.\u001b[39mappend(\u001b[38;5;241m11\u001b[39m,\u001b[38;5;241m21\u001b[39m)\n",
      "\u001b[1;31mTypeError\u001b[0m: list.append() takes exactly one argument (2 given)"
     ]
    }
   ],
   "source": [
    "l1.append(11,21)                #append() method is used to add one value at a time not more than one."
   ]
  },
  {
   "cell_type": "code",
   "execution_count": 34,
   "id": "fb1842f6",
   "metadata": {},
   "outputs": [
    {
     "name": "stdout",
     "output_type": "stream",
     "text": [
      "[12, 14, 53, 42.4, 99.9, 'srk', 74, 32, 'nareshit', 32, [11, 21]] 2887671044800 <class 'list'>\n"
     ]
    }
   ],
   "source": [
    "l1.append([11,21])            #append([]) this will add list of item as a inner list, not seperate items 11,21 \n",
    "print(l1,id(l1),type(l1))"
   ]
  },
  {
   "cell_type": "code",
   "execution_count": null,
   "id": "7ef57e39",
   "metadata": {},
   "outputs": [],
   "source": []
  },
  {
   "cell_type": "code",
   "execution_count": 35,
   "id": "3328a59c",
   "metadata": {},
   "outputs": [
    {
     "name": "stdout",
     "output_type": "stream",
     "text": [
      "[12, 14, 53, 42.4, 99.9, 'srk', 74, 32, 'nareshit', 32, [11, 21], 32] 2887671044800\n"
     ]
    }
   ],
   "source": [
    "l1.extend([32])             #extend([]) this will add seperate item 32, not inner list([32]) of list l1.\n",
    "print(l1,id(l1))\n"
   ]
  },
  {
   "cell_type": "code",
   "execution_count": 36,
   "id": "466b5c7a",
   "metadata": {},
   "outputs": [
    {
     "name": "stdout",
     "output_type": "stream",
     "text": [
      "[12, 14, 53, 42.4, 99.9, 'srk', 74, 32, 'nareshit', 32, [11, 21], 32, 44, 33, 22] 2887671044800\n"
     ]
    }
   ],
   "source": [
    "l1.extend([44,33,22])     #extend([]) this will add seperate items 44,33,22, not inner list([44,33,22]) of list l1.\n",
    "print(l1,id(l1))"
   ]
  },
  {
   "cell_type": "code",
   "execution_count": 38,
   "id": "05dea26e",
   "metadata": {},
   "outputs": [
    {
     "name": "stdout",
     "output_type": "stream",
     "text": [
      "[12, 14, 53, 42.4, 99.9, 'srk', 74, 32, 'nareshit', 32, [11, 21], 32, 44, 33, 22, [1, 2, 3], [4, 5], [6, 7]] 2887671044800\n"
     ]
    }
   ],
   "source": [
    "l1.extend([[1,2,3],[4,5],[6,7]])    #this will add three inner list in list l1\n",
    "print(l1,id(l1))"
   ]
  },
  {
   "cell_type": "code",
   "execution_count": 39,
   "id": "3e08aeee",
   "metadata": {},
   "outputs": [
    {
     "ename": "TypeError",
     "evalue": "list.extend() takes exactly one argument (3 given)",
     "output_type": "error",
     "traceback": [
      "\u001b[1;31m---------------------------------------------------------------------------\u001b[0m",
      "\u001b[1;31mTypeError\u001b[0m                                 Traceback (most recent call last)",
      "Cell \u001b[1;32mIn[39], line 1\u001b[0m\n\u001b[1;32m----> 1\u001b[0m l1\u001b[38;5;241m.\u001b[39mextend([\u001b[38;5;241m1\u001b[39m,\u001b[38;5;241m2\u001b[39m,\u001b[38;5;241m3\u001b[39m],[\u001b[38;5;241m4\u001b[39m,\u001b[38;5;241m5\u001b[39m],[\u001b[38;5;241m6\u001b[39m,\u001b[38;5;241m7\u001b[39m])\n",
      "\u001b[1;31mTypeError\u001b[0m: list.extend() takes exactly one argument (3 given)"
     ]
    }
   ],
   "source": [
    "l1.extend([1,2,3],[4,5],[6,7])      #we have to pass list items through [] to extend(), not directly"
   ]
  },
  {
   "cell_type": "code",
   "execution_count": null,
   "id": "9fe4e6ed",
   "metadata": {},
   "outputs": [],
   "source": []
  }
 ],
 "metadata": {
  "kernelspec": {
   "display_name": "Python 3 (ipykernel)",
   "language": "python",
   "name": "python3"
  },
  "language_info": {
   "codemirror_mode": {
    "name": "ipython",
    "version": 3
   },
   "file_extension": ".py",
   "mimetype": "text/x-python",
   "name": "python",
   "nbconvert_exporter": "python",
   "pygments_lexer": "ipython3",
   "version": "3.11.5"
  }
 },
 "nbformat": 4,
 "nbformat_minor": 5
}
