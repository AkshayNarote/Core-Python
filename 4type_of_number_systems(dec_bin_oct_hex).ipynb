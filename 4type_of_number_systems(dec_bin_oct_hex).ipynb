{
 "cells": [
  {
   "cell_type": "code",
   "execution_count": 9,
   "id": "68ff4ae4",
   "metadata": {},
   "outputs": [
    {
     "name": "stdout",
     "output_type": "stream",
     "text": [
      "10\n",
      "0b1010\n",
      "15\n",
      "511\n",
      "7\n",
      "0b1100011\n",
      "0b10001001010\n"
     ]
    }
   ],
   "source": [
    "a = 0b1010\n",
    "print(a)\n",
    "print(bin(10))\n",
    "\n",
    "c = 0b1111\n",
    "print(c)\n",
    "\n",
    "print(0b111111111)\n",
    "print(0b0111)\n",
    "\n",
    "print(bin(99))\n",
    "print(bin(1098))"
   ]
  },
  {
   "cell_type": "code",
   "execution_count": 16,
   "id": "8a3a7f6a",
   "metadata": {},
   "outputs": [
    {
     "name": "stdout",
     "output_type": "stream",
     "text": [
      "2\n",
      "7\n",
      "8\n",
      "10\n",
      "15\n",
      "16\n",
      "18\n",
      "63\n",
      "668\n",
      "2049746\n",
      "342391\n",
      "====================\n",
      "0o24\n",
      "0o10\n",
      "0o12\n",
      "0o17\n",
      "0o70\n",
      "0o1733\n",
      "0o15233067\n"
     ]
    }
   ],
   "source": [
    "a = 0o2\n",
    "print(a)\n",
    "\n",
    "b = 0o7\n",
    "print(b)\n",
    "\n",
    "c = 0o10\n",
    "print(c)\n",
    "\n",
    "print(0o12)\n",
    "print(0o17)\n",
    "print(0o20)\n",
    "print(0o22)\n",
    "print(0o77)\n",
    "print(0o1234)\n",
    "print(0o7643322)\n",
    "print(0o1234567)\n",
    "\n",
    "print(\"=\"*20)\n",
    "\n",
    "d = 20\n",
    "print(oct(d))\n",
    "\n",
    "print(oct(8))\n",
    "print(oct(10))\n",
    "print(oct(15))\n",
    "print(oct(56))\n",
    "print(oct(987))\n",
    "print(oct(3487287))"
   ]
  },
  {
   "cell_type": "code",
   "execution_count": 19,
   "id": "d9ab606a",
   "metadata": {},
   "outputs": [
    {
     "name": "stdout",
     "output_type": "stream",
     "text": [
      "9\n",
      "17\n",
      "10\n",
      "15\n",
      "30\n",
      "238\n",
      "152\n",
      "255 171 4666 291\n",
      "80 65535 4095 96\n"
     ]
    }
   ],
   "source": [
    "y = 0x9\n",
    "print(y)\n",
    "\n",
    "z = 0x11\n",
    "print(z)\n",
    "\n",
    "p = 0xa\n",
    "print(p)\n",
    "\n",
    "l = 0xf\n",
    "print(l)\n",
    "\n",
    "n = 0x1e\n",
    "print(n)\n",
    "\n",
    "print(0xee)\n",
    "print(0x98)\n",
    "print(0xff,0xab,0x123a,0x123)\n",
    "print(0x50,0xffff,0xfff,0x60)"
   ]
  },
  {
   "cell_type": "code",
   "execution_count": 24,
   "id": "2e658e72",
   "metadata": {},
   "outputs": [
    {
     "name": "stdout",
     "output_type": "stream",
     "text": [
      "0b111 0o7 0x7\n",
      "7 0o7 0x7\n",
      "7 0b111 0x7\n",
      "7 0b111 0x7\n",
      "====================\n",
      "0b10110 0b1101 0b10101\n",
      "0o142 0o14 0o32\n",
      "0x4c 0x1c 0x35\n"
     ]
    }
   ],
   "source": [
    "a = 7\n",
    "print(bin(a),oct(a),hex(a))\n",
    "\n",
    "b = 0b111\n",
    "print(b,oct(b),hex(b))\n",
    "\n",
    "c = 0o7\n",
    "print(c,bin(c),hex(c))\n",
    "\n",
    "d = 0x7\n",
    "print(d,bin(d),hex(d))\n",
    "\n",
    "print(\"=\"*20)\n",
    "\n",
    "print(bin(22),bin(0o15),bin(0x15))\n",
    "print(oct(98),oct(0b1100),oct(0x1a))\n",
    "print(hex(76),hex(0b11100),hex(0o65))"
   ]
  },
  {
   "cell_type": "code",
   "execution_count": 26,
   "id": "caeac8af",
   "metadata": {},
   "outputs": [
    {
     "ename": "TypeError",
     "evalue": "'float' object cannot be interpreted as an integer",
     "output_type": "error",
     "traceback": [
      "\u001b[1;31m---------------------------------------------------------------------------\u001b[0m",
      "\u001b[1;31mTypeError\u001b[0m                                 Traceback (most recent call last)",
      "Cell \u001b[1;32mIn[26], line 1\u001b[0m\n\u001b[1;32m----> 1\u001b[0m \u001b[38;5;28mprint\u001b[39m(\u001b[38;5;28mbin\u001b[39m(\u001b[38;5;241m1.1\u001b[39m),\u001b[38;5;28moct\u001b[39m(\u001b[38;5;241m21.10\u001b[39m),\u001b[38;5;28mhex\u001b[39m(\u001b[38;5;241m3.01\u001b[39m))\n",
      "\u001b[1;31mTypeError\u001b[0m: 'float' object cannot be interpreted as an integer"
     ]
    }
   ],
   "source": [
    "print(bin(1.1),oct(21.10),hex(3.01))   #float can not be converted into another number systems"
   ]
  },
  {
   "cell_type": "code",
   "execution_count": 30,
   "id": "56274453",
   "metadata": {},
   "outputs": [
    {
     "ename": "SyntaxError",
     "evalue": "invalid decimal literal (914103162.py, line 1)",
     "output_type": "error",
     "traceback": [
      "\u001b[1;36m  Cell \u001b[1;32mIn[30], line 1\u001b[1;36m\u001b[0m\n\u001b[1;33m    a = 0b011.0b11\u001b[0m\n\u001b[1;37m              ^\u001b[0m\n\u001b[1;31mSyntaxError\u001b[0m\u001b[1;31m:\u001b[0m invalid decimal literal\n"
     ]
    }
   ],
   "source": [
    "a = 0b011.0b11          #float datatype can't support other number systems than decimal number system\n",
    "print(a)         \n",
    "\n"
   ]
  },
  {
   "cell_type": "code",
   "execution_count": 33,
   "id": "6f13e051",
   "metadata": {},
   "outputs": [
    {
     "ename": "SyntaxError",
     "evalue": "invalid syntax. Perhaps you forgot a comma? (546003052.py, line 1)",
     "output_type": "error",
     "traceback": [
      "\u001b[1;36m  Cell \u001b[1;32mIn[33], line 1\u001b[1;36m\u001b[0m\n\u001b[1;33m    print(0o7.30)\u001b[0m\n\u001b[1;37m          ^\u001b[0m\n\u001b[1;31mSyntaxError\u001b[0m\u001b[1;31m:\u001b[0m invalid syntax. Perhaps you forgot a comma?\n"
     ]
    }
   ],
   "source": [
    "print(0o7.30)"
   ]
  },
  {
   "cell_type": "code",
   "execution_count": 38,
   "id": "b3b13ea7",
   "metadata": {},
   "outputs": [
    {
     "ename": "SyntaxError",
     "evalue": "invalid syntax. Perhaps you forgot a comma? (4146105423.py, line 1)",
     "output_type": "error",
     "traceback": [
      "\u001b[1;36m  Cell \u001b[1;32mIn[38], line 1\u001b[1;36m\u001b[0m\n\u001b[1;33m    print(0x1a.19)\u001b[0m\n\u001b[1;37m          ^\u001b[0m\n\u001b[1;31mSyntaxError\u001b[0m\u001b[1;31m:\u001b[0m invalid syntax. Perhaps you forgot a comma?\n"
     ]
    }
   ],
   "source": [
    "print(0x1a.19)"
   ]
  },
  {
   "cell_type": "code",
   "execution_count": 39,
   "id": "a8cf0e03",
   "metadata": {},
   "outputs": [
    {
     "name": "stdout",
     "output_type": "stream",
     "text": [
      "-1\n"
     ]
    }
   ],
   "source": [
    "print(False-True)"
   ]
  },
  {
   "cell_type": "code",
   "execution_count": null,
   "id": "ea0399fb",
   "metadata": {},
   "outputs": [],
   "source": []
  }
 ],
 "metadata": {
  "kernelspec": {
   "display_name": "Python 3 (ipykernel)",
   "language": "python",
   "name": "python3"
  },
  "language_info": {
   "codemirror_mode": {
    "name": "ipython",
    "version": 3
   },
   "file_extension": ".py",
   "mimetype": "text/x-python",
   "name": "python",
   "nbconvert_exporter": "python",
   "pygments_lexer": "ipython3",
   "version": "3.11.5"
  }
 },
 "nbformat": 4,
 "nbformat_minor": 5
}
