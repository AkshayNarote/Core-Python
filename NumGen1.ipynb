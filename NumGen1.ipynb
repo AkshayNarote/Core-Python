{
 "cells": [
  {
   "cell_type": "code",
   "execution_count": 4,
   "id": "d10316ee",
   "metadata": {},
   "outputs": [
    {
     "name": "stdout",
     "output_type": "stream",
     "text": [
      "Enter how many values u want to generate:23\n",
      "==================================================\n",
      "Numbers within:23\n",
      "==================================================\n",
      "\t1\n",
      "\t2\n",
      "\t3\n",
      "\t4\n",
      "\t5\n",
      "\t6\n",
      "\t7\n",
      "\t8\n",
      "\t9\n",
      "\t10\n",
      "\t11\n",
      "\t12\n",
      "\t13\n",
      "\t14\n",
      "\t15\n",
      "\t16\n",
      "\t17\n",
      "\t18\n",
      "\t19\n",
      "\t20\n",
      "\t21\n",
      "\t22\n",
      "\t23\n"
     ]
    }
   ],
   "source": [
    "n=int(input(\"Enter how many values u want to generate:\"))\n",
    "if(n<=0):\n",
    "    print(f\"{n}is invalid number\")\n",
    "else:\n",
    "    print(\"=\"*50)\n",
    "    print(\"Numbers within:{}\".format(n))\n",
    "    print(\"=\"*50)\n",
    "    i=1\n",
    "    while(i<=n):\n",
    "        print(\"\\t{}\".format(i))\n",
    "        i=i+1"
   ]
  },
  {
   "cell_type": "code",
   "execution_count": 6,
   "id": "2f6cd24b",
   "metadata": {},
   "outputs": [
    {
     "name": "stdout",
     "output_type": "stream",
     "text": [
      "Enter the number to generate how many numbers want to generate:23\n",
      "1\n",
      "2\n",
      "3\n",
      "4\n",
      "5\n",
      "6\n",
      "7\n",
      "8\n",
      "9\n",
      "10\n",
      "11\n",
      "12\n",
      "13\n",
      "14\n",
      "15\n",
      "16\n",
      "17\n",
      "18\n",
      "19\n",
      "20\n",
      "21\n",
      "22\n",
      "23\n"
     ]
    },
    {
     "ename": "KeyboardInterrupt",
     "evalue": "",
     "output_type": "error",
     "traceback": [
      "\u001b[1;31m---------------------------------------------------------------------------\u001b[0m",
      "\u001b[1;31mKeyboardInterrupt\u001b[0m                         Traceback (most recent call last)",
      "Cell \u001b[1;32mIn[6], line 3\u001b[0m\n\u001b[0;32m      1\u001b[0m n \u001b[38;5;241m=\u001b[39m \u001b[38;5;28mint\u001b[39m(\u001b[38;5;28minput\u001b[39m(\u001b[38;5;124m\"\u001b[39m\u001b[38;5;124mEnter the number to generate how many numbers want to generate:\u001b[39m\u001b[38;5;124m\"\u001b[39m))\n\u001b[0;32m      2\u001b[0m i\u001b[38;5;241m=\u001b[39m\u001b[38;5;241m1\u001b[39m\n\u001b[1;32m----> 3\u001b[0m \u001b[38;5;28;01mwhile\u001b[39;00m n\u001b[38;5;241m>\u001b[39m\u001b[38;5;241m0\u001b[39m:\n\u001b[0;32m      4\u001b[0m     \u001b[38;5;28;01mif\u001b[39;00m i\u001b[38;5;241m<\u001b[39m\u001b[38;5;241m=\u001b[39mn:\n\u001b[0;32m      5\u001b[0m         \u001b[38;5;28mprint\u001b[39m(i)\n",
      "\u001b[1;31mKeyboardInterrupt\u001b[0m: "
     ]
    }
   ],
   "source": [
    "n = int(input(\"Enter the number to generate how many numbers want to generate:\"))\n",
    "i=1\n",
    "while n>0:\n",
    "    if i<=n:\n",
    "        print(i)\n",
    "        i=i+1\n",
    "    \n",
    "else:\n",
    "    print(\"Invalid number..\")\n",
    "    "
   ]
  },
  {
   "cell_type": "code",
   "execution_count": 12,
   "id": "3e318c84",
   "metadata": {},
   "outputs": [
    {
     "name": "stdout",
     "output_type": "stream",
     "text": [
      "Enter the number to generate how many numbers want to: 54\n",
      "1\n",
      "2\n",
      "3\n",
      "4\n",
      "5\n",
      "6\n",
      "7\n",
      "8\n",
      "9\n",
      "10\n",
      "11\n",
      "12\n",
      "13\n",
      "14\n",
      "15\n",
      "16\n",
      "17\n",
      "18\n",
      "19\n",
      "20\n",
      "21\n",
      "22\n",
      "23\n",
      "24\n",
      "25\n",
      "26\n",
      "27\n",
      "28\n",
      "29\n",
      "30\n",
      "31\n",
      "32\n",
      "33\n",
      "34\n",
      "35\n",
      "36\n",
      "37\n",
      "38\n",
      "39\n",
      "40\n",
      "41\n",
      "42\n",
      "43\n",
      "44\n",
      "45\n",
      "46\n",
      "47\n",
      "48\n",
      "49\n",
      "50\n",
      "51\n",
      "52\n",
      "53\n",
      "54\n"
     ]
    }
   ],
   "source": [
    "n = int(input(\"Enter the number to generate how many numbers want to: \"))\n",
    "if n>0:\n",
    "    for i in range(1,n+1):\n",
    "        print(i)\n",
    "else:\n",
    "    print(\"invalid number..\")"
   ]
  },
  {
   "cell_type": "code",
   "execution_count": null,
   "id": "e4bd95c4",
   "metadata": {},
   "outputs": [],
   "source": []
  }
 ],
 "metadata": {
  "kernelspec": {
   "display_name": "Python 3 (ipykernel)",
   "language": "python",
   "name": "python3"
  },
  "language_info": {
   "codemirror_mode": {
    "name": "ipython",
    "version": 3
   },
   "file_extension": ".py",
   "mimetype": "text/x-python",
   "name": "python",
   "nbconvert_exporter": "python",
   "pygments_lexer": "ipython3",
   "version": "3.11.5"
  }
 },
 "nbformat": 4,
 "nbformat_minor": 5
}
