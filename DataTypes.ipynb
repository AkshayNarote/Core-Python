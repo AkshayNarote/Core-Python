{
 "cells": [
  {
   "cell_type": "code",
   "execution_count": 46,
   "id": "03dcb63a",
   "metadata": {},
   "outputs": [
    {
     "name": "stdout",
     "output_type": "stream",
     "text": [
      "Enter 1st int number to add:1\n",
      "Enter 2nd int number to add:2\n",
      "c = 3\n",
      "DataType of 'a' variable: <class 'int'>\n",
      "DataType of 'b' variable: <class 'int'>\n",
      "DataType of 'c' variable: <class 'int'>\n"
     ]
    }
   ],
   "source": [
    "# int DataType\n",
    "\n",
    "a = int(input(\"Enter 1st int number to add:\"))    # Here we have to do the typecasting because the input() function will give every inputed value as a string value.\n",
    "b = int(input(\"Enter 2nd int number to add:\"))\n",
    "\n",
    "c = a + b \n",
    "\n",
    "print(\"c =\", c)\n",
    "\n",
    "print(\"DataType of 'a' variable:\",type(a))\n",
    "print(\"DataType of 'b' variable:\",type(b))\n",
    "print(\"DataType of 'c' variable:\",type(c))\n",
    "\n",
    "# By this we can understand that the variables in python are Dynamic\n",
    "    # (doesn't need to declare datatype of a varible, it will take datatype automatically when we assign the value to the variable).  "
   ]
  },
  {
   "cell_type": "code",
   "execution_count": 48,
   "id": "18becd6f",
   "metadata": {},
   "outputs": [
    {
     "name": "stdout",
     "output_type": "stream",
     "text": [
      "Enter 1st float value to add:1.2\n",
      "Enter 2nd float value to add:1.1\n",
      "c = 2.3\n",
      "DataType of 'a' variable: <class 'float'>\n",
      "DataType of 'b' variable: <class 'float'>\n",
      "DataType of 'c' variable: <class 'float'>\n"
     ]
    }
   ],
   "source": [
    "# float DataType\n",
    "\n",
    "a = float(input(\"Enter 1st float value to add:\"))   # Here we have to do the typecasting because the input() function will give every inputed value as a string value\n",
    "b = float(input(\"Enter 2nd float value to add:\"))\n",
    "\n",
    "c = a + b\n",
    "print(\"c =\", c)\n",
    "\n",
    "print(\"DataType of 'a' variable:\",type(a))\n",
    "print(\"DataType of 'b' variable:\",type(b))\n",
    "print(\"DataType of 'c' variable:\",type(c))\n",
    "\n",
    "# By this we can understand that the variables in python are Dynamic\n",
    "    # (doesn't need to declare datatype of a varible, it will take datatype automatically when we assign the value to the variable).  "
   ]
  },
  {
   "cell_type": "code",
   "execution_count": 59,
   "id": "675eb421",
   "metadata": {},
   "outputs": [
    {
     "name": "stdout",
     "output_type": "stream",
     "text": [
      "Enter any value to check bool datatype:False\n",
      "a = True\n",
      "DataType of 'a' variable: <class 'bool'>\n",
      "False\n",
      "DataType of 'b' variable: <class 'bool'>\n"
     ]
    }
   ],
   "source": [
    "# bool DataType\n",
    "\n",
    "a = bool(input(\"Enter any value to check bool datatype:\"))  # When we give some value to input() function while taking value it will take it into string formate with one pre-space to that value \n",
    "                                                                          # so while performing boolean operation it can be wrong sometimes\n",
    "\n",
    "print(\"a =\",a)\n",
    "print(\"DataType of 'a' variable:\",type(a))\n",
    "\n",
    "\n",
    "# so we should not take value for boolean operation from input() function\n",
    "\n",
    "b = bool(False)\n",
    "\n",
    "print(b)\n",
    "print(\"DataType of 'b' variable:\",type(b))"
   ]
  },
  {
   "cell_type": "code",
   "execution_count": 8,
   "id": "2409f2df",
   "metadata": {},
   "outputs": [
    {
     "name": "stdout",
     "output_type": "stream",
     "text": [
      "a = False\n"
     ]
    }
   ],
   "source": [
    "a = bool(0)\n",
    "print(\"a =\", a)\n"
   ]
  },
  {
   "cell_type": "code",
   "execution_count": 7,
   "id": "6f7560f7",
   "metadata": {},
   "outputs": [
    {
     "name": "stdout",
     "output_type": "stream",
     "text": [
      "Enter only string value to concatenation:1\n",
      "Enter only string value to concatenation:1\n",
      "c = 11\n",
      "DataType of 'a' variable: <class 'str'>\n",
      "DataType of 'b' variable: <class 'str'>\n",
      "DataType of 'c' variable: <class 'str'>\n"
     ]
    }
   ],
   "source": [
    "# string DataType\n",
    "\n",
    "a = input(\"Enter only string value to concatenation:\")   # Here we don't need the typecasting because the input() function will give every inputed value as a string value\n",
    "b = input(\"Enter only string value to concatenation:\")\n",
    "\n",
    "c = a + b\n",
    "print(\"c =\", c)\n",
    "\n",
    "print(\"DataType of 'a' variable:\",type(a))\n",
    "print(\"DataType of 'b' variable:\",type(b))\n",
    "print(\"DataType of 'c' variable:\",type(c))"
   ]
  },
  {
   "cell_type": "code",
   "execution_count": null,
   "id": "818334ac",
   "metadata": {},
   "outputs": [],
   "source": []
  }
 ],
 "metadata": {
  "kernelspec": {
   "display_name": "Python 3 (ipykernel)",
   "language": "python",
   "name": "python3"
  },
  "language_info": {
   "codemirror_mode": {
    "name": "ipython",
    "version": 3
   },
   "file_extension": ".py",
   "mimetype": "text/x-python",
   "name": "python",
   "nbconvert_exporter": "python",
   "pygments_lexer": "ipython3",
   "version": "3.11.5"
  }
 },
 "nbformat": 4,
 "nbformat_minor": 5
}
