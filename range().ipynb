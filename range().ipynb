{
 "cells": [
  {
   "cell_type": "code",
   "execution_count": 1,
   "id": "2b36b59f",
   "metadata": {},
   "outputs": [
    {
     "data": {
      "text/plain": [
       "[30, 28, 26, 24, 22]"
      ]
     },
     "execution_count": 1,
     "metadata": {},
     "output_type": "execute_result"
    }
   ],
   "source": [
    "list(range(30,20,-2))"
   ]
  },
  {
   "cell_type": "code",
   "execution_count": 2,
   "id": "49942a12",
   "metadata": {},
   "outputs": [
    {
     "data": {
      "text/plain": [
       "range(0, 10)"
      ]
     },
     "execution_count": 2,
     "metadata": {},
     "output_type": "execute_result"
    }
   ],
   "source": [
    "range(10)"
   ]
  },
  {
   "cell_type": "code",
   "execution_count": 3,
   "id": "464ac675",
   "metadata": {},
   "outputs": [
    {
     "data": {
      "text/plain": [
       "range(0, 10)"
      ]
     },
     "execution_count": 3,
     "metadata": {},
     "output_type": "execute_result"
    }
   ],
   "source": [
    "x = range(10)\n",
    "x"
   ]
  },
  {
   "cell_type": "code",
   "execution_count": 4,
   "id": "fc9e3d4b",
   "metadata": {},
   "outputs": [
    {
     "data": {
      "text/plain": [
       "[0, 1, 2, 3, 4, 5, 6, 7, 8, 9]"
      ]
     },
     "execution_count": 4,
     "metadata": {},
     "output_type": "execute_result"
    }
   ],
   "source": [
    "list(range(10))"
   ]
  },
  {
   "cell_type": "code",
   "execution_count": 5,
   "id": "26e33788",
   "metadata": {},
   "outputs": [
    {
     "data": {
      "text/plain": [
       "[2, 5, 8]"
      ]
     },
     "execution_count": 5,
     "metadata": {},
     "output_type": "execute_result"
    }
   ],
   "source": [
    "list(range(2,10,3))"
   ]
  },
  {
   "cell_type": "code",
   "execution_count": 1,
   "id": "63dba58f",
   "metadata": {},
   "outputs": [
    {
     "name": "stdout",
     "output_type": "stream",
     "text": [
      "[1, 'raj', 54.2, 'shri', 98, [3, 'aishu', 99], [4, 'ak', 87]] <class 'list'>\n",
      "0 1\n",
      "1 raj\n",
      "2 54.2\n",
      "3 shri\n",
      "4 98\n",
      "5 [3, 'aishu', 99]\n",
      "6 [4, 'ak', 87]\n"
     ]
    }
   ],
   "source": [
    "l2 = [1,\"raj\",54.2,\"shri\",98,[3,\"aishu\",99],[4,\"ak\",87]]\n",
    "print(l2,type(l2))\n",
    "for i in range(len(l2)):\n",
    "    print(i,l2[i])"
   ]
  },
  {
   "cell_type": "code",
   "execution_count": 2,
   "id": "e8ea76a9",
   "metadata": {},
   "outputs": [
    {
     "name": "stdout",
     "output_type": "stream",
     "text": [
      "[1, 'raj', 54.2, 'shri', 98, [3, 'aishu', 99], [4, 'ak', 87]] <class 'list'>\n",
      "2 54.2\n",
      "3 shri\n",
      "4 98\n",
      "5 [3, 'aishu', 99]\n",
      "6 [4, 'ak', 87]\n"
     ]
    }
   ],
   "source": [
    "l2 = [1,\"raj\",54.2,\"shri\",98,[3,\"aishu\",99],[4,\"ak\",87]]\n",
    "print(l2,type(l2))\n",
    "for i in range(2,len(l2)):\n",
    "    print(i,l2[i])"
   ]
  },
  {
   "cell_type": "code",
   "execution_count": 3,
   "id": "241b6681",
   "metadata": {},
   "outputs": [
    {
     "name": "stdout",
     "output_type": "stream",
     "text": [
      "[1, 'raj', 54.2, 'shri', 98, [3, 'aishu', 99], [4, 'ak', 87]] <class 'list'>\n",
      "1 raj\n",
      "3 shri\n",
      "5 [3, 'aishu', 99]\n"
     ]
    }
   ],
   "source": [
    "l2 = [1,\"raj\",54.2,\"shri\",98,[3,\"aishu\",99],[4,\"ak\",87]]\n",
    "print(l2,type(l2))\n",
    "for i in range(1,len(l2),2):\n",
    "    print(i,l2[i])"
   ]
  },
  {
   "cell_type": "code",
   "execution_count": 6,
   "id": "548608f5",
   "metadata": {},
   "outputs": [
    {
     "name": "stdout",
     "output_type": "stream",
     "text": [
      "[1, 'raj', 54.2, 'shri', 98, [3, 'aishu', 99], [4, 'ak', 87]] <class 'list'>\n",
      "-1 [4, 'ak', 87]\n",
      "-2 [3, 'aishu', 99]\n",
      "-3 98\n",
      "-4 shri\n",
      "-5 54.2\n",
      "-6 raj\n"
     ]
    }
   ],
   "source": [
    "l2 = [1,\"raj\",54.2,\"shri\",98,[3,\"aishu\",99],[4,\"ak\",87]]\n",
    "print(l2,type(l2))\n",
    "for i in range(-1,-len(l2),-1):\n",
    "    print(i,l2[i])"
   ]
  },
  {
   "cell_type": "code",
   "execution_count": null,
   "id": "1767b3f6",
   "metadata": {},
   "outputs": [],
   "source": []
  }
 ],
 "metadata": {
  "kernelspec": {
   "display_name": "Python 3 (ipykernel)",
   "language": "python",
   "name": "python3"
  },
  "language_info": {
   "codemirror_mode": {
    "name": "ipython",
    "version": 3
   },
   "file_extension": ".py",
   "mimetype": "text/x-python",
   "name": "python",
   "nbconvert_exporter": "python",
   "pygments_lexer": "ipython3",
   "version": "3.11.5"
  }
 },
 "nbformat": 4,
 "nbformat_minor": 5
}
